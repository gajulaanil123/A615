{
  "nbformat": 4,
  "nbformat_minor": 0,
  "metadata": {
    "colab": {
      "provenance": [],
      "authorship_tag": "ABX9TyMyDhTEuw2JsVqxnbTNZTai",
      "include_colab_link": true
    },
    "kernelspec": {
      "name": "python3",
      "display_name": "Python 3"
    },
    "language_info": {
      "name": "python"
    }
  },
  "cells": [
    {
      "cell_type": "markdown",
      "metadata": {
        "id": "view-in-github",
        "colab_type": "text"
      },
      "source": [
        "<a href=\"https://colab.research.google.com/github/gajulaanil123/A615/blob/main/Untitled3.ipynb\" target=\"_parent\"><img src=\"https://colab.research.google.com/assets/colab-badge.svg\" alt=\"Open In Colab\"/></a>"
      ]
    },
    {
      "cell_type": "markdown",
      "source": [
        "Lab Activities Suggested:\n",
        "\n",
        "1. Implement weather modeling using the quadratic solution in stages: hard-coding variables keyboard input, read from a file, for a single set of input, multiple sets of inputs.\n",
        "\n",
        "a. save all versions, debug, fix problems."
      ],
      "metadata": {
        "id": "VdG2qjaYz5sv"
      }
    },
    {
      "cell_type": "code",
      "source": [
        "import math\n",
        "\n",
        "# Reading variables using th Keyboard values\n",
        "def weather_model(T, H, W):\n",
        "    result = 0.5 * T ** 2 - 0.2 * H + 0.1 * W - 15\n",
        "    return result\n",
        "def quadratic_solution(T, H, W):\n",
        "    weather_result = weather_model(T, H, W)\n",
        "    if weather_result > 300:\n",
        "        prediction = \"1. Sunny\"\n",
        "    elif 10 <= weather_result <= 200:\n",
        "        prediction = \"2. Cloudy\"\n",
        "    elif 0 <= weather_result <100 :\n",
        "        prediction = \"3. Rainy\"\n",
        "    else:\n",
        "        prediction = \"4. Stormy\"\n",
        "    return weather_result, prediction\n",
        "T = float(input(\"Enter the temperature (T) in degrees Celsius: \"))\n",
        "H = float(input(\"Enter the humidity (H) as a percentage: \"))\n",
        "W = float(input(\"Enter the wind speed (W) in km/h: \"))\n",
        "weather_result, prediction = quadratic_solution(T, H, W)\n",
        "print(f\"\\nWeather Calculation Result: {weather_result:.2f}\")\n",
        "print(f\"Predicted Weather: {prediction}\")"
      ],
      "metadata": {
        "colab": {
          "base_uri": "https://localhost:8080/"
        },
        "id": "aQUjmgPTCMOW",
        "outputId": "4272ca87-cd09-4332-ff49-3982f254e5ed"
      },
      "execution_count": 18,
      "outputs": [
        {
          "output_type": "stream",
          "name": "stdout",
          "text": [
            "Enter the temperature (T) in degrees Celsius: 45\n",
            "Enter the humidity (H) as a percentage: 15\n",
            "Enter the wind speed (W) in km/h: 24\n",
            "\n",
            "Weather Calculation Result: 996.90\n",
            "Predicted Weather: 1. Sunny\n"
          ]
        }
      ]
    },
    {
      "cell_type": "code",
      "source": [
        "#Function to calculate weather condition based on the equation W = 0.5T^2 - 0.2H + 0.1W - 15\n",
        "def weather_model(T, H, W):\n",
        "    # Calculate the weather condition using the given equation\n",
        "    result = 0.5 * T ** 2 - 0.2 * H + 0.1 * W - 15\n",
        "    return result\n",
        "\n",
        "# Function to calculate the quadratic equation result and the weather condition\n",
        "def quadratic_solution(T, H, W):\n",
        "    # Weather condition result\n",
        "    weather_result = weather_model(T, H, W)\n",
        "\n",
        "    # Predict the weather condition based on the result\n",
        "    if weather_result > 20:\n",
        "        prediction = \"1. Sunny\"\n",
        "    elif 10 <= weather_result <= 20:\n",
        "        prediction = \"2. Cloudy\"\n",
        "    elif 0 <= weather_result < 10:\n",
        "        prediction = \"3. Rainy\"\n",
        "    else:\n",
        "        prediction = \"4. Stormy\"\n",
        "\n",
        "    return weather_result, prediction\n",
        "\n",
        "# Function to read variables from a file and predict weather\n",
        "def read_and_predict_weather(file_path):\n",
        "    try:\n",
        "        with open(file_path, 'r') as file:\n",
        "            lines = file.readlines()\n",
        "\n",
        "            for line in lines:\n",
        "                # Skip empty lines\n",
        "                if not line.strip():\n",
        "                    continue\n",
        "\n",
        "                # Read the T, H, W values from each line\n",
        "                T, H, W = map(float, line.split(','))\n",
        "\n",
        "                # Calculate and predict weather\n",
        "                weather_result, prediction = quadratic_solution(T, H, W)\n",
        "\n",
        "                # Output the results\n",
        "                print(f\"Temperature: {T}°C, Humidity: {H}%, Wind Speed: {W} km/h\")\n",
        "                print(f\"Weather Calculation Result: {weather_result:.2f}\")\n",
        "                print(f\"Predicted Weather: {prediction}\\n\")\n",
        "\n",
        "    except FileNotFoundError:\n",
        "        print(f\"Error: The file '{file_path}' was not found.\")\n",
        "    except Exception as e:\n",
        "        print(f\"An error occurred: {e}\")\n",
        "\n",
        "# Example usage\n",
        "file_path = '/content/input.txt'  # Replace this with your actual file path\n",
        "read_and_predict_weather(file_path)"
      ],
      "metadata": {
        "colab": {
          "base_uri": "https://localhost:8080/"
        },
        "id": "VMkwsPaHCW57",
        "outputId": "146d7e61-2e44-4d8f-eced-3bf78dd95a3d"
      },
      "execution_count": 21,
      "outputs": [
        {
          "output_type": "stream",
          "name": "stdout",
          "text": [
            "Temperature: 25.45°C, Humidity: 50.5%, Wind Speed: 10.7 km/h\n",
            "Weather Calculation Result: 299.82\n",
            "Predicted Weather: 1. Sunny\n",
            "\n"
          ]
        }
      ]
    },
    {
      "cell_type": "code",
      "source": [
        "def calculate_weather(T, H, W_input):\n",
        "    W = 0.5 * (T ** 2) - 0.2 * H + 0.1 * W_input - 15\n",
        "    return W\n",
        "\n",
        "def get_weather_condition(W):\n",
        "    if W > 300:\n",
        "        return \"Sunny\"\n",
        "    elif 200 < W <= 300:\n",
        "        return \"Rainy\"\n",
        "    elif 100 < W <= 200:\n",
        "        return \"Cloudy\"\n",
        "    else:\n",
        "        return \"Stormy\"\n",
        "\n",
        "# Stage 2: Accept input from keyboard\n",
        "T = float(input(\"Enter temperature (T): \"))\n",
        "H = float(input(\"Enter humidity (H): \"))\n",
        "W_input = float(input(\"Enter wind speed (W): \"))\n",
        "\n",
        "W = calculate_weather(T, H, W_input)\n",
        "condition = get_weather_condition(W)\n",
        "\n",
        "print(f\"Weather Condition: {condition}\")\n"
      ],
      "metadata": {
        "colab": {
          "base_uri": "https://localhost:8080/"
        },
        "id": "vk8RBoN_DFy_",
        "outputId": "7deb558e-f065-451d-eefe-0f9e363fd1a5"
      },
      "execution_count": 23,
      "outputs": [
        {
          "output_type": "stream",
          "name": "stdout",
          "text": [
            "Enter temperature (T): 45\n",
            "Enter humidity (H): 6\n",
            "Enter wind speed (W): 75\n",
            "Weather Condition: Sunny\n"
          ]
        }
      ]
    }
  ]
}
